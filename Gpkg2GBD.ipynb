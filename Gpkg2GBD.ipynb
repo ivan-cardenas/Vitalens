{
 "cells": [
  {
   "cell_type": "code",
   "execution_count": 2,
   "metadata": {},
   "outputs": [],
   "source": [
    "%conda install gdal"
   ]
  },
  {
   "cell_type": "code",
   "execution_count": 3,
   "metadata": {},
   "outputs": [],
   "source": [
    "from osgeo import gdal, ogr\n",
    "\n",
    "gdal.UseExceptions()\n",
    "translate_options = gdal.VectorTranslateOptions(format=\"OpenFileGDB\",accessMode=\"overwrite\")\n",
    "ds = gdal.VectorTranslate(\"../ARCGISPRO/Thematic.gdb\",\"../GEOPKG/Thematic_Data.gpkg\",options=translate_options)\n",
    "ds = None\n"
   ]
  }
 ],
 "metadata": {
  "kernelspec": {
   "display_name": ".venv",
   "language": "python",
   "name": "python3"
  },
  "language_info": {
   "codemirror_mode": {
    "name": "ipython",
    "version": 3
   },
   "file_extension": ".py",
   "mimetype": "text/x-python",
   "name": "python",
   "nbconvert_exporter": "python",
   "pygments_lexer": "ipython3",
   "version": "3.12.4"
  }
 },
 "nbformat": 4,
 "nbformat_minor": 2
}
